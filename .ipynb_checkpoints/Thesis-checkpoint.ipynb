{
 "cells": [
  {
   "cell_type": "markdown",
   "metadata": {},
   "source": [
    "### Load Image"
   ]
  },
  {
   "cell_type": "code",
   "execution_count": 1,
   "metadata": {},
   "outputs": [
    {
     "ename": "ModuleNotFoundError",
     "evalue": "No module named 'cv2'",
     "output_type": "error",
     "traceback": [
      "\u001b[1;31m---------------------------------------------------------------------------\u001b[0m",
      "\u001b[1;31mModuleNotFoundError\u001b[0m                       Traceback (most recent call last)",
      "\u001b[1;32m<ipython-input-1-e383a831ae51>\u001b[0m in \u001b[0;36m<module>\u001b[1;34m()\u001b[0m\n\u001b[1;32m----> 1\u001b[1;33m \u001b[1;32mimport\u001b[0m \u001b[0mcv2\u001b[0m\u001b[1;33m\u001b[0m\u001b[0m\n\u001b[0m\u001b[0;32m      2\u001b[0m \u001b[1;32mimport\u001b[0m \u001b[0mnumpy\u001b[0m \u001b[1;32mas\u001b[0m \u001b[0mnp\u001b[0m\u001b[1;33m\u001b[0m\u001b[0m\n\u001b[0;32m      3\u001b[0m \u001b[1;32mfrom\u001b[0m \u001b[0mmatplotlib\u001b[0m \u001b[1;32mimport\u001b[0m \u001b[0mpyplot\u001b[0m \u001b[1;32mas\u001b[0m \u001b[0mplt\u001b[0m\u001b[1;33m\u001b[0m\u001b[0m\n\u001b[0;32m      4\u001b[0m \u001b[1;32mimport\u001b[0m \u001b[0mmatplotlib\u001b[0m\u001b[1;33m\u001b[0m\u001b[0m\n\u001b[0;32m      5\u001b[0m \u001b[1;32mimport\u001b[0m \u001b[0mskfuzzy\u001b[0m \u001b[1;32mas\u001b[0m \u001b[0mfuzz\u001b[0m\u001b[1;33m\u001b[0m\u001b[0m\n",
      "\u001b[1;31mModuleNotFoundError\u001b[0m: No module named 'cv2'"
     ]
    }
   ],
   "source": [
    "import cv2\n",
    "import numpy as np\n",
    "from matplotlib import pyplot as plt\n",
    "import matplotlib\n",
    "import skfuzzy as fuzz\n",
    "from pylab import *\n",
    "\n",
    "img = cv2.imread(r'C:\\Users\\Josh\\Desktop\\DATASET\\THESIS\\quaver.jpg')\n",
    "\n",
    "print(img.shape)\n",
    "plt.imshow(img,cmap='gray')\n",
    "plt.show()"
   ]
  },
  {
   "cell_type": "markdown",
   "metadata": {},
   "source": [
    "### Horizontal Projection and Binarization"
   ]
  },
  {
   "cell_type": "code",
   "execution_count": null,
   "metadata": {
    "scrolled": true
   },
   "outputs": [],
   "source": [
    "ret,noStaffNote = cv2.threshold(img,60,255,cv2.THRESH_BINARY)\n",
    "noStaffNote = cv2.blur(noStaffNote,(2,2))\n",
    "\n",
    "plt.imshow(noStaffNote,cmap='gray')\n",
    "plt.show()\n",
    "\n",
    "cv2.imwrite(r\"C:\\Users\\Josh\\Desktop\\DATASET\\THESIS\\Test.jpg\", noStaffNote)"
   ]
  },
  {
   "cell_type": "markdown",
   "metadata": {},
   "source": [
    "### Canny Edge Detector"
   ]
  },
  {
   "cell_type": "code",
   "execution_count": null,
   "metadata": {},
   "outputs": [],
   "source": [
    "edges = cv2.Canny(noStaffNote,100,200)\n",
    "    \n",
    "plt.imshow(edges,cmap='gray')\n",
    "plt.show()\n",
    "\n",
    "type(edges)"
   ]
  },
  {
   "cell_type": "markdown",
   "metadata": {},
   "source": [
    "### Extracting Edge Transition Values (WIP)\n"
   ]
  },
  {
   "cell_type": "code",
   "execution_count": null,
   "metadata": {},
   "outputs": [],
   "source": [
    "# create a new figure\n",
    "figure()\n",
    "gray()\n",
    "# show contours with origin upper left corner\n",
    "contour(edges, origin='image')\n",
    "axis('equal')\n",
    "axis('off')\n",
    "\n",
    "\n",
    "figure()\n",
    "features = array(edges)\n",
    "\n",
    "hist(features.flatten(), 10)\n",
    "\n",
    "show()"
   ]
  },
  {
   "cell_type": "markdown",
   "metadata": {},
   "source": [
    "### Extracting NumPy Array for Fuzzy Membership "
   ]
  },
  {
   "cell_type": "code",
   "execution_count": null,
   "metadata": {},
   "outputs": [],
   "source": [
    "edges"
   ]
  },
  {
   "cell_type": "markdown",
   "metadata": {},
   "source": [
    "\n",
    "### Describing the Fuzzy System\n"
   ]
  },
  {
   "cell_type": "markdown",
   "metadata": {},
   "source": [
    "First create fuzzy membership functions which represent degree of truth related to a continuous variable variable."
   ]
  },
  {
   "cell_type": "code",
   "execution_count": null,
   "metadata": {
    "scrolled": true
   },
   "outputs": [],
   "source": [
    "edge = edges.flatten()\n",
    "# Generate universe functions\n",
    "temp = np.arange(30, 101, 1)\n",
    "customers = np.arange(0, 36, 1)\n",
    "\n",
    "print(edge)\n",
    "\n",
    "# Membership functions for heat\n",
    "t_hot = fuzz.trimf(temp, [65, 100, 100])\n",
    "t_moderate = fuzz.trimf(temp, [30, 65, 100])\n",
    "t_cool = fuzz.trapmf(temp, [20, 20, 30, 65])\n",
    "\n",
    "# Membership functions for customers\n",
    "c_crowded = fuzz.trimf(customers, [24, 35, 35])\n",
    "c_busy = fuzz.trimf(customers, [0, 24, 35])\n",
    "c_quiet = fuzz.trimf(customers, [0, 0, 24])"
   ]
  },
  {
   "cell_type": "markdown",
   "metadata": {},
   "source": [
    "### Visualize Fuzzy System"
   ]
  },
  {
   "cell_type": "code",
   "execution_count": null,
   "metadata": {
    "collapsed": true
   },
   "outputs": [],
   "source": [
    "# Visualize membership functions for temperature\n",
    "fig, ax = plt.subplots()\n",
    "\n",
    "ax.plot(temp, tg_hot, 'r', temp, t_moderate, 'm', temp, t_cool, 'b')\n",
    "ax.set_ylabel('Fuzzy membership')\n",
    "ax.set_xlabel('Temp (Farenheit)')\n",
    "ax.set_ylim(-0.05, 1.05);"
   ]
  },
  {
   "cell_type": "code",
   "execution_count": null,
   "metadata": {
    "collapsed": true
   },
   "outputs": [],
   "source": []
  }
 ],
 "metadata": {
  "kernelspec": {
   "display_name": "Python 3",
   "language": "python",
   "name": "python3"
  },
  "language_info": {
   "codemirror_mode": {
    "name": "ipython",
    "version": 3
   },
   "file_extension": ".py",
   "mimetype": "text/x-python",
   "name": "python",
   "nbconvert_exporter": "python",
   "pygments_lexer": "ipython3",
   "version": "3.6.3"
  }
 },
 "nbformat": 4,
 "nbformat_minor": 2
}
