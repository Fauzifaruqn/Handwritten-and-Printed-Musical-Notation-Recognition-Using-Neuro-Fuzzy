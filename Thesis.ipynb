{
 "cells": [
  {
   "cell_type": "markdown",
   "metadata": {},
   "source": [
    "### Load Image"
   ]
  },
  {
   "cell_type": "code",
   "execution_count": 1,
   "metadata": {},
   "outputs": [
    {
     "name": "stdout",
     "output_type": "stream",
     "text": [
      "(100, 100, 3)\n"
     ]
    },
    {
     "data": {
      "text/plain": [
       "<Figure size 640x480 with 1 Axes>"
      ]
     },
     "metadata": {},
     "output_type": "display_data"
    }
   ],
   "source": [
    "import cv2 \n",
    "import numpy as np\n",
    "from matplotlib import pyplot as plt\n",
    "import matplotlib\n",
    "import skfuzzy as fuzz\n",
    "from pylab import *\n",
    "\n",
    "\n",
    "img = cv2.imread(r'C:\\Users\\Josh\\Desktop\\DATASET\\THESIS\\Printed Symbols\\treble.jpg')\n",
    "\n",
    "\n",
    "print(img.shape)\n",
    "plt.imshow(img,cmap='gray')\n",
    "plt.show()\n",
    "\n"
   ]
  },
  {
   "cell_type": "markdown",
   "metadata": {},
   "source": [
    "### Horizontal Projection and Binarization"
   ]
  },
  {
   "cell_type": "code",
   "execution_count": 2,
   "metadata": {
    "scrolled": true
   },
   "outputs": [
    {
     "data": {
      "image/png": "[encoded data removed]",
      "text/plain": [
       "<Figure size 432x288 with 1 Axes>"
      ]
     },
     "metadata": {},
     "output_type": "display_data"
    },
    {
     "data": {
      "text/plain": [
       "True"
      ]
     },
     "execution_count": 2,
     "metadata": {},
     "output_type": "execute_result"
    }
   ],
   "source": [
    "\n",
    "ret,noStaffNote = cv2.threshold(img,60,255,cv2.THRESH_BINARY)\n",
    "\n",
    "\n",
    "\n",
    "noStaffNote = cv2.blur(noStaffNote,(2,2))\n",
    "\n",
    "plt.imshow(noStaffNote,cmap='gray')\n",
    "plt.show()\n",
    "\n",
    "cv2.imwrite(r\"C:\\Users\\Josh\\Desktop\\DATASET\\THESIS\\Test.jpg\", noStaffNote)\n",
    "\n",
    "\n"
   ]
  },
  {
   "cell_type": "markdown",
   "metadata": {},
   "source": [
    "### Canny Edge Detector"
   ]
  },
  {
   "cell_type": "code",
   "execution_count": 3,
   "metadata": {},
   "outputs": [
    {
     "data": {
      "image/png": "[encoded data removed]",
      "text/plain": [
       "<Figure size 432x288 with 1 Axes>"
      ]
     },
     "metadata": {},
     "output_type": "display_data"
    },
    {
     "name": "stdout",
     "output_type": "stream",
     "text": [
      "11.7045\n"
     ]
    }
   ],
   "source": [
    "edges = cv2.Canny(noStaffNote,100,200)\n",
    "    \n",
    "plt.imshow(edges,cmap='gray')\n",
    "plt.show()\n",
    "\n",
    "type(edges)\n",
    "edges.flatten()\n",
    "\n",
    "unique, counts = np.unique(edges, return_counts=True)\n",
    "dict(zip(unique, counts))\n",
    "\n",
    "\n",
    "\n",
    "\n",
    "\n",
    "\n",
    "\n",
    "mean = edges.mean()\n",
    "print(mean)"
   ]
  },
  {
   "cell_type": "markdown",
   "metadata": {},
   "source": [
    "### Getting the Edges"
   ]
  },
  {
   "cell_type": "code",
   "execution_count": 4,
   "metadata": {},
   "outputs": [
    {
     "data": {
      "image/png": "[encoded data removed]",
      "text/plain": [
       "<Figure size 432x288 with 1 Axes>"
      ]
     },
     "metadata": {},
     "output_type": "display_data"
    },
    {
     "data": {
      "text/plain": [
       "<Figure size 432x288 with 0 Axes>"
      ]
     },
     "metadata": {},
     "output_type": "display_data"
    }
   ],
   "source": [
    "# create a new figure\n",
    "figure()\n",
    "gray()\n",
    "# show contours with origin upper left corner\n",
    "contour(edges, origin='image')\n",
    "axis('equal')\n",
    "axis('off')\n",
    "\n",
    "\n",
    "figure()\n",
    "features = array(edges)\n",
    "\n",
    "\n",
    "\n",
    "show()"
   ]
  },
  {
   "cell_type": "markdown",
   "metadata": {},
   "source": [
    "### Detecting the Transition Values"
   ]
  },
  {
   "cell_type": "markdown",
   "metadata": {},
   "source": [
    "#### This code snippet here takes x1, x2, x3 values of the image provided."
   ]
  },
  {
   "cell_type": "code",
   "execution_count": 78,
   "metadata": {},
   "outputs": [
    {
     "name": "stdout",
     "output_type": "stream",
     "text": [
      "x1: -8, x2: 10, x3: -14\n",
      "x1: -8, x2: 10, x3: -10\n",
      "x1: -7, x2: 9, x3: -14\n",
      "x1: -8, x2: 10, x3: -8\n",
      "x1: -12, x2: 17, x3: -3\n",
      "x1: -12, x2: 14, x3: -11\n",
      "x1: -7, x2: 11, x3: -6\n",
      "x1: -9, x2: 14, x3: -5\n",
      "x1: -9, x2: 12, x3: -23\n",
      "x1: -7, x2: 11, x3: -6\n",
      "x1: -7, x2: 11, x3: -7\n",
      "x1: -6, x2: 8, x3: -12\n",
      "x1: -9, x2: 11, x3: -9\n",
      "x1: -7, x2: 10, x3: -8\n",
      "x1: -11, x2: 13, x3: -6\n",
      "x1: -8, x2: 11, x3: -6\n",
      "x1: -10, x2: 14, x3: -6\n",
      "x1: -5, x2: 9, x3: -11\n",
      "x1: -7, x2: 9, x3: -11\n",
      "x1: -7, x2: 9, x3: -4\n",
      "x1: -8, x2: 12, x3: -4\n",
      "x1: -8, x2: 10, x3: -12\n",
      "x1: -9, x2: 11, x3: -13\n",
      "x1: -7, x2: 9, x3: -5\n",
      "x1: -7, x2: 10, x3: -10\n",
      "x1: -6, x2: 8, x3: -16\n",
      "x1: -11, x2: 15, x3: -9\n",
      "\n",
      "\n",
      "##### LO AND HIGH VALUES #####\n",
      "Highest X1: -5\n",
      "Lowest X1: -12\n",
      "\n",
      "Highest X2: 17\n",
      "Lowest X2: 8\n",
      "\n",
      "Highest X3: -3\n",
      "Lowest X3: -23\n"
     ]
    },
    {
     "data": {
      "image/png": "[encoded data removed]",
      "text/plain": [
       "<Figure size 432x288 with 1 Axes>"
      ]
     },
     "metadata": {},
     "output_type": "display_data"
    }
   ],
   "source": [
    "lowest_x1 = 0\n",
    "lowest_x2 = 0\n",
    "lowest_x3 = 0\n",
    "highest_x1 = 0\n",
    "highest_x2 = 0\n",
    "highest_x3 = 0\n",
    "\n",
    "first_run = 1\n",
    "\n",
    "\n",
    "for rep in range(1, 28):\n",
    "    arrX = [1]\n",
    "    arrY = [None]\n",
    "    arrReading = [None]\n",
    "\n",
    "    #for transition detection\n",
    "    local_max = 0\n",
    "    local_min = 0\n",
    "    pr = 0 # previous reading\n",
    "    direction = \"+\"\n",
    "    x = [0] # transition magnitude\n",
    "    #=======================#\n",
    "\n",
    "    #rep = edges;\n",
    "    foldername = \"TrebleClef\"\n",
    "    path = \"C:\\\\Users\\\\Josh\\\\Desktop\\\\Thesis Data\\\\Extracted\\\\\" + foldername +\"\\\\testing\\\\\"\n",
    "    #TO MAKE THINGS EASIER, THE IMAGES ARE NAMED 1,2,3,4... etc. \n",
    "    \n",
    "    imgName = path + str(rep) +\".jpg\"\n",
    "    img = cv2.imread(imgName, 0)\n",
    "    edges = cv2.Canny(img, 100, 200)\n",
    "\n",
    "\n",
    "    z = 0\n",
    "\n",
    "    for a in edges:\n",
    "        y = 0\n",
    "        z += 1\n",
    "        arrX.append(z)\n",
    "\n",
    "        for b in a:\n",
    "            if b >= 254:\n",
    "                y += 1\n",
    "\n",
    "        arrY.append(y)\n",
    "\n",
    "    arrX.remove(1)\n",
    "    arrY.remove(None)\n",
    "\n",
    "    plt.plot(arrX, arrY)\n",
    "    plt.title(foldername)\n",
    "    #plt.show()\n",
    "\n",
    "    #DETECTING THE TRANSITION VALUES\n",
    "    for cr in arrY:\n",
    "        if cr != pr:\n",
    "            if cr > (pr+2):\n",
    "                if direction == \"+\":\n",
    "                    if cr > local_max:\n",
    "                        local_max = cr\n",
    "                        pr = cr\n",
    "                    else:\n",
    "                        pr = cr\n",
    "                else:\n",
    "                    direction = \"+\"\n",
    "                    x.append(local_min + local_max)\n",
    "                    local_max = cr\n",
    "                    pr = cr\n",
    "            else:\n",
    "                if cr > pr:\n",
    "                    if direction == \"+\":\n",
    "                        local_max = cr\n",
    "                        pr = cr\n",
    "                    else:\n",
    "                        pr = cr\n",
    "                else:\n",
    "                    if cr < (pr-2):\n",
    "                        if direction == \"-\":\n",
    "                            if cr < local_max:\n",
    "                                local_min = cr\n",
    "                                pr = cr\n",
    "                            else:\n",
    "                                pr = cr\n",
    "                        else:\n",
    "                            direction = \"-\"\n",
    "                            x.append(0 - (local_max - local_min))\n",
    "                            local_min = cr\n",
    "                            pr = cr\n",
    "                    else:\n",
    "                        if direction == \"-\":\n",
    "                            local_min = cr\n",
    "                            pr = cr\n",
    "                        else:\n",
    "                            pr = cr\n",
    "        else:\n",
    "            pr = cr\n",
    "            \n",
    "    try:\n",
    "        #print(\"x1: \" + str(x[1]) + \", x2: \" + str(x[2]) + \", x3: \" + str(x[3]))\n",
    "        print(\"x1: \" + str(x[1]) + \", x2: \" + str(x[2]) + \", x3: \" + str(x[3]))\n",
    "        \n",
    "        \n",
    "    except IndexError:\n",
    "        print(\"Transition Values less than expected\")\n",
    "        pass\n",
    "        \n",
    "        \n",
    "        \n",
    "    \n",
    "    \n",
    "    \n",
    "    #============== This code here will take the lowest x and the highest x ===========#\n",
    "    try:\n",
    "        current_x1 = x[1]\n",
    "        current_x2 = x[2]\n",
    "        current_x3 = x[3]\n",
    "    except IndexError:\n",
    "        pass\n",
    "\n",
    "    #pseudocode\n",
    "    #if the current x1 is bigger than the previous x1, then that's the highest, otherwise, \n",
    "    #if the current x1 is lower than the lowest x1, then that's the lowest\n",
    "    \n",
    "    if(first_run == 1):\n",
    "        highest_x1 = current_x1\n",
    "        lowest_x1 = current_x1\n",
    "        highest_x2 = current_x2\n",
    "        lowest_x2 = current_x2\n",
    "        highest_x3 = current_x3\n",
    "        lowest_x3 = current_x3\n",
    "        \n",
    "        first_run = 0\n",
    "    else:\n",
    "        if(current_x1 >= highest_x1):\n",
    "            highest_x1 = current_x1\n",
    "        elif(current_x1 <= lowest_x1):\n",
    "            lowest_x1 = current_x1\n",
    "            \n",
    "        if(current_x2 >= highest_x2):\n",
    "            highest_x2 = current_x2\n",
    "        elif(current_x2 <= lowest_x2):\n",
    "            lowest_x2 = current_x2\n",
    "\n",
    "        if(current_x3 >= highest_x3):\n",
    "            highest_x3 = current_x3\n",
    "        elif(current_x3 <= lowest_x3):\n",
    "            lowest_x3 = current_x3\n",
    "\n",
    "    \n",
    "    \n",
    "    \n",
    "    \n",
    "    \n",
    "    \n",
    "    \n",
    "    \n",
    "\n",
    "print()\n",
    "print()   \n",
    "print(\"##### LO AND HIGH VALUES #####\")\n",
    "print(\"Highest X1: \" + str(highest_x1))\n",
    "print(\"Lowest X1: \" + str(lowest_x1))\n",
    "print()\n",
    "print(\"Highest X2: \" + str(highest_x2))\n",
    "print(\"Lowest X2: \" + str(lowest_x2))\n",
    "print()\n",
    "print(\"Highest X3: \" + str(highest_x3))\n",
    "print(\"Lowest X3: \" + str(lowest_x3))\n",
    "\n",
    "\n",
    "\n",
    "\n",
    "#===================#\n",
    "\n",
    "\n",
    "\n",
    "\n",
    "## Describing the Fuzzy System"
   ]
  },
  {
   "cell_type": "code",
   "execution_count": 76,
   "metadata": {},
   "outputs": [
    {
     "data": {
      "image/png": "[encoded data removed]",
      "text/plain": [
       "<Figure size 432x288 with 1 Axes>"
      ]
     },
     "metadata": {},
     "output_type": "display_data"
    }
   ],
   "source": [
    "### THIS PART IS STILL WIP\n",
    "### I don't know if the graph should look like this.\n",
    "### \n",
    "\n",
    "\n",
    "# Generate universe of discourse functions\n",
    "universe = np.arange(-100,  100, 1)\n",
    "\n",
    "\n",
    "# Membership functions for all Xs (FOUND IN THE CSV FILE)\n",
    "x1 = fuzz.trapmf(universe, [-60, -41,-22,-3])\n",
    "x2 = fuzz.trapmf(universe, [3, 29, 55, 81])\n",
    "x3 = fuzz.trapmf(universe, [-34, -23,-12,-1])\n",
    "#mid = fuzz.trapmf(universe, [-60,-22,29,81])\n",
    "\n",
    "\n",
    "# Visualize membership functions for temperature\n",
    "fig, ax = plt.subplots()\n",
    "\n",
    "\n",
    "#ax.plot(universe, x1, 'r', universe, x2, 'm', universe, x3, 'b', universe, mid, 'g')\n",
    "ax.plot(universe, x1, 'r', universe, x2, 'm', universe, x3, 'b')\n",
    "ax.set_ylabel('Fuzzy membership')\n",
    "ax.set_xlabel('Universe of Discourse')\n",
    "ax.set_ylim(-0.05, 1.05);\n",
    "\n"
   ]
  },
  {
   "cell_type": "code",
   "execution_count": 89,
   "metadata": {},
   "outputs": [
    {
     "name": "stdout",
     "output_type": "stream",
     "text": [
      "50.739% treble clef\n"
     ]
    },
    {
     "data": {
      "text/plain": [
       "-1.7114707371835748e+16"
      ]
     },
     "execution_count": 89,
     "metadata": {},
     "output_type": "execute_result"
    },
    {
     "data": {
      "image/png": "[encoded data removed]",
      "text/plain": [
       "<Figure size 432x288 with 1 Axes>"
      ]
     },
     "metadata": {},
     "output_type": "display_data"
    }
   ],
   "source": [
    "fig, ax = plt.subplots()\n",
    "\n",
    "# Membership for a handwritten treble clef that is not part of the training data\n",
    "trebleX1 = fuzz.trapmf(universe, [-12, -9.667,14,17])\n",
    "trebleX2 = fuzz.trapmf(universe, [8, 11,14,17])\n",
    "trebleX3 = fuzz.trapmf(universe, [-23,-16.333,-9.667,-3])\n",
    "\n",
    "#\n",
    "\n",
    "ax.plot(universe, x1, 'r', universe, x2, 'm', universe, x3, 'b', universe, trebleX1, \"y\")\n",
    "ax.set_ylabel('Fuzzy membership')\n",
    "ax.set_xlabel('Universe of Discourse')\n",
    "ax.set_ylim(-0.05, 1.05);\n",
    "\n",
    "\n",
    "#Fuzzy Relations\n",
    "R1 = fuzz.classic_relation(x1, trebleX1)\n",
    "R2 = fuzz.classic_relation(x2, trebleX2)\n",
    "R3 = fuzz.classic_relation(x3, trebleX3)\n",
    "\n",
    "a = fuzz.defuzz(R1, R3, 'centroid') \n",
    "a = a * 100\n",
    "a = round(a,3)\n",
    "\n",
    "print(str(a) + \"% treble clef\")\n",
    "fuzz.defuzz(R3, R1, 'centroid') \n",
    "\n",
    "\n",
    "#ax.plot(universe, x1, 'r', universe, x2, 'm', universe, x3, 'b', universe, treble, \"y\")\n",
    "#ax.set_ylabel('Fuzzy membership')\n",
    "#ax.set_xlabel('Universe of Discourse')\n",
    "#ax.set_ylim(-0.05, 1.05);\n",
    "\n",
    "\n"
   ]
  },
  {
   "cell_type": "code",
   "execution_count": 8,
   "metadata": {},
   "outputs": [
    {
     "name": "stdout",
     "output_type": "stream",
     "text": [
      "50.199% treble clef\n"
     ]
    }
   ],
   "source": [
    "a = fuzz.defuzz(R3, R1, 'centroid') \n",
    "a = a * 100\n",
    "a = round(a,3)\n",
    "\n",
    "print(str(a) + \"% treble clef\")"
   ]
  },
  {
   "cell_type": "code",
   "execution_count": null,
   "metadata": {},
   "outputs": [],
   "source": []
  },
  {
   "cell_type": "code",
   "execution_count": null,
   "metadata": {},
   "outputs": [],
   "source": []
  },
  {
   "cell_type": "code",
   "execution_count": null,
   "metadata": {},
   "outputs": [],
   "source": []
  }
 ],
 "metadata": {
  "kernelspec": {
   "display_name": "Python 3",
   "language": "python",
   "name": "python3"
  },
  "language_info": {
   "codemirror_mode": {
    "name": "ipython",
    "version": 3
   },
   "file_extension": ".py",
   "mimetype": "text/x-python",
   "name": "python",
   "nbconvert_exporter": "python",
   "pygments_lexer": "ipython3",
   "version": "3.7.0"
  }
 },
 "nbformat": 4,
 "nbformat_minor": 2
}
