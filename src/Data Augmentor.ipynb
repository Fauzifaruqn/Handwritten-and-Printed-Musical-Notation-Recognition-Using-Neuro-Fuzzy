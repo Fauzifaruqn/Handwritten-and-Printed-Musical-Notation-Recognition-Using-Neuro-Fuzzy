{
 "cells": [
  {
   "cell_type": "code",
   "execution_count": 13,
   "metadata": {},
   "outputs": [
    {
     "name": "stdout",
     "output_type": "stream",
     "text": [
      "Initialised with 123 image(s) found.\n",
      "Output directory set to C:\\Users\\Josh\\Desktop\\Thesis Data\\Testing Data\\QuarterRest\\output."
     ]
    },
    {
     "name": "stderr",
     "output_type": "stream",
     "text": [
      "Processing <PIL.Image.Image image mode=RGB size=256x256 at 0x2825085A438>: 100%|█| 150/150 [00:01<00:00, 108.34 Samples/s]\n"
     ]
    }
   ],
   "source": [
    "import Augmentor\n",
    "\n",
    "p = Augmentor.Pipeline(r\"C:\\Users\\Josh\\Desktop\\Thesis Data\\Testing Data\\QuarterRest\")\n",
    "\n",
    "p.rotate(probability=0.9, max_left_rotation=25, max_right_rotation=25)\n",
    "p.zoom(probability=0.6, min_factor=1.0, max_factor=1.2)\n",
    "p.sample(150)"
   ]
  },
  {
   "cell_type": "code",
   "execution_count": 14,
   "metadata": {},
   "outputs": [
    {
     "name": "stdout",
     "output_type": "stream",
     "text": [
      "Initialised with 108 image(s) found.\n",
      "Output directory set to C:\\Users\\Josh\\Desktop\\Thesis Data\\Testing Data\\Quaver\\output."
     ]
    },
    {
     "name": "stderr",
     "output_type": "stream",
     "text": [
      "Processing <PIL.Image.Image image mode=RGB size=256x256 at 0x282508BB048>: 100%|█| 150/150 [00:01<00:00, 104.47 Samples/s]                \n"
     ]
    }
   ],
   "source": [
    "p = Augmentor.Pipeline(r\"C:\\Users\\Josh\\Desktop\\Thesis Data\\Testing Data\\Quaver\")\n",
    "\n",
    "p.rotate(probability=0.9, max_left_rotation=25, max_right_rotation=25)\n",
    "p.zoom(probability=0.6, min_factor=1.0, max_factor=1.2)\n",
    "p.sample(150)"
   ]
  },
  {
   "cell_type": "code",
   "execution_count": 15,
   "metadata": {},
   "outputs": [
    {
     "name": "stdout",
     "output_type": "stream",
     "text": [
      "Initialised with 96 image(s) found.\n",
      "Output directory set to C:\\Users\\Josh\\Desktop\\Thesis Data\\Testing Data\\Sharp\\output."
     ]
    },
    {
     "name": "stderr",
     "output_type": "stream",
     "text": [
      "Processing <PIL.Image.Image image mode=RGB size=256x256 at 0x282507392E8>: 100%|█| 150/150 [00:01<00:00, 97.83 Samples/s]                 \n"
     ]
    }
   ],
   "source": [
    "p = Augmentor.Pipeline(r\"C:\\Users\\Josh\\Desktop\\Thesis Data\\Testing Data\\Sharp\")\n",
    "\n",
    "p.rotate(probability=0.9, max_left_rotation=25, max_right_rotation=25)\n",
    "p.zoom(probability=0.6, min_factor=1.0, max_factor=1.2)\n",
    "p.sample(150)"
   ]
  },
  {
   "cell_type": "code",
   "execution_count": 16,
   "metadata": {},
   "outputs": [
    {
     "name": "stdout",
     "output_type": "stream",
     "text": [
      "Initialised with 100 image(s) found.\n",
      "Output directory set to C:\\Users\\Josh\\Desktop\\Thesis Data\\Testing Data\\Slur\\output."
     ]
    },
    {
     "name": "stderr",
     "output_type": "stream",
     "text": [
      "Processing <PIL.Image.Image image mode=RGB size=256x256 at 0x2825087F080>: 100%|█| 150/150 [00:01<00:00, 97.30 Samples/s]                 \n"
     ]
    }
   ],
   "source": [
    "p = Augmentor.Pipeline(r\"C:\\Users\\Josh\\Desktop\\Thesis Data\\Testing Data\\Slur\")\n",
    "\n",
    "p.rotate(probability=0.9, max_left_rotation=25, max_right_rotation=25)\n",
    "p.zoom(probability=0.6, min_factor=1.0, max_factor=1.2)\n",
    "p.sample(150)"
   ]
  },
  {
   "cell_type": "code",
   "execution_count": 17,
   "metadata": {},
   "outputs": [
    {
     "name": "stdout",
     "output_type": "stream",
     "text": [
      "Initialised with 108 image(s) found.\n",
      "Output directory set to C:\\Users\\Josh\\Desktop\\Thesis Data\\Testing Data\\Staccatissimo\\output."
     ]
    },
    {
     "name": "stderr",
     "output_type": "stream",
     "text": [
      "Processing <PIL.Image.Image image mode=RGB size=256x256 at 0x2825089F898>: 100%|█| 150/150 [00:01<00:00, 88.26 Samples/s]                  \n"
     ]
    }
   ],
   "source": [
    "p = Augmentor.Pipeline(r\"C:\\Users\\Josh\\Desktop\\Thesis Data\\Testing Data\\Staccatissimo\")\n",
    "\n",
    "p.rotate(probability=0.9, max_left_rotation=25, max_right_rotation=25)\n",
    "p.zoom(probability=0.6, min_factor=1.0, max_factor=1.2)\n",
    "p.sample(150)"
   ]
  },
  {
   "cell_type": "code",
   "execution_count": 19,
   "metadata": {},
   "outputs": [
    {
     "name": "stdout",
     "output_type": "stream",
     "text": [
      "Initialised with 104 image(s) found.\n",
      "Output directory set to C:\\Users\\Josh\\Desktop\\Thesis Data\\Testing Data\\Ties\\output."
     ]
    },
    {
     "name": "stderr",
     "output_type": "stream",
     "text": [
      "Processing <PIL.Image.Image image mode=RGB size=256x256 at 0x282508D2DD8>: 100%|█| 150/150 [00:01<00:00, 102.45 Samples/s]                 \n"
     ]
    }
   ],
   "source": [
    "p = Augmentor.Pipeline(r\"C:\\Users\\Josh\\Desktop\\Thesis Data\\Testing Data\\Ties\")\n",
    "\n",
    "p.rotate(probability=0.9, max_left_rotation=25, max_right_rotation=25)\n",
    "p.zoom(probability=0.6, min_factor=1.0, max_factor=1.2)\n",
    "p.sample(150)"
   ]
  },
  {
   "cell_type": "code",
   "execution_count": 18,
   "metadata": {},
   "outputs": [
    {
     "name": "stdout",
     "output_type": "stream",
     "text": [
      "Initialised with 108 image(s) found.\n",
      "Output directory set to C:\\Users\\Josh\\Desktop\\Thesis Data\\Testing Data\\TrebleClef\\output."
     ]
    },
    {
     "name": "stderr",
     "output_type": "stream",
     "text": [
      "Processing <PIL.Image.Image image mode=RGB size=256x256 at 0x282508CF5C0>: 100%|█| 150/150 [00:01<00:00, 87.53 Samples/s]\n"
     ]
    }
   ],
   "source": [
    "p = Augmentor.Pipeline(r\"C:\\Users\\Josh\\Desktop\\Thesis Data\\Testing Data\\TrebleClef\")\n",
    "\n",
    "p.rotate(probability=0.9, max_left_rotation=25, max_right_rotation=25)\n",
    "p.zoom(probability=0.6, min_factor=1.0, max_factor=1.2)\n",
    "p.sample(150)"
   ]
  },
  {
   "cell_type": "code",
   "execution_count": null,
   "metadata": {},
   "outputs": [],
   "source": []
  }
 ],
 "metadata": {
  "kernelspec": {
   "display_name": "Python 3",
   "language": "python",
   "name": "python3"
  },
  "language_info": {
   "codemirror_mode": {
    "name": "ipython",
    "version": 3
   },
   "file_extension": ".py",
   "mimetype": "text/x-python",
   "name": "python",
   "nbconvert_exporter": "python",
   "pygments_lexer": "ipython3",
   "version": "3.6.4"
  }
 },
 "nbformat": 4,
 "nbformat_minor": 2
}
